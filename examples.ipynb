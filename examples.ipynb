{
 "cells": [
  {
   "cell_type": "markdown",
   "metadata": {},
   "source": [
    "### 1. Sraper Test"
   ]
  },
  {
   "cell_type": "code",
   "execution_count": null,
   "metadata": {},
   "outputs": [],
   "source": [
    "from compare_2_courses.scrape.utils import get_default_chrome_driver\n",
    "from compare_2_courses.scrape.scraper_config import ScraperConfig\n",
    "from compare_2_courses.scrape.udemy_scraper import UdemyScraper\n",
    "from compare_2_courses.constants import (\n",
    "    AWS_DEA_01_2024_HANDS_ON\n",
    "    , ULTIMATE_AWS_SAA_C03\n",
    "    , ULTIMATE_AWS_SAP_C02_2024\n",
    "    , AWS_2024_DOP_C02\n",
    "    , ULTIMATE_AWS_NEW_2024_SCS_C02\n",
    "    )\n",
    "import json"
   ]
  },
  {
   "cell_type": "code",
   "execution_count": null,
   "metadata": {},
   "outputs": [],
   "source": [
    "driver = get_default_chrome_driver()"
   ]
  },
  {
   "cell_type": "code",
   "execution_count": null,
   "metadata": {},
   "outputs": [],
   "source": [
    "for course in [\n",
    "    AWS_DEA_01_2024_HANDS_ON\n",
    "    , ULTIMATE_AWS_SAA_C03\n",
    "    , ULTIMATE_AWS_SAP_C02_2024\n",
    "    , AWS_2024_DOP_C02\n",
    "    , ULTIMATE_AWS_NEW_2024_SCS_C02\n",
    "]:\n",
    "    print(course.title)\n",
    "    scrape_config = ScraperConfig(course_landing_page=course.landing_page)\n",
    "    scraper = UdemyScraper(scraper_config=scrape_config, driver=driver)\n",
    "    course = scraper.scrape()\n",
    "    with open(f\"./data/{course.title}.json\", \"w+\") as f:\n",
    "        json.dump(course.to_json_dict(),f)"
   ]
  },
  {
   "cell_type": "markdown",
   "metadata": {},
   "source": [
    "### 2. Load, from scraped data"
   ]
  },
  {
   "cell_type": "code",
   "execution_count": 1,
   "metadata": {},
   "outputs": [],
   "source": [
    "from compare_2_courses.schemas.course import Course\n",
    "from compare_2_courses.analytics.analyzer import Analyzer, CompareReport\n",
    "from compare_2_courses.schemas.course_content import CourseVideo\n",
    "from compare_2_courses.constants import (\n",
    "    AWS_DEA_01_2024_HANDS_ON\n",
    "    , ULTIMATE_AWS_SAA_C03\n",
    "    , ULTIMATE_AWS_SAP_C02_2024\n",
    "    , AWS_2024_DOP_C02\n",
    "    , ULTIMATE_AWS_NEW_2024_SCS_C02\n",
    "    , UDEMY_LEARNING_PLATFORM\n",
    "    )\n",
    "import json"
   ]
  },
  {
   "cell_type": "code",
   "execution_count": 2,
   "metadata": {},
   "outputs": [],
   "source": [
    "all_courses = []"
   ]
  },
  {
   "cell_type": "code",
   "execution_count": 3,
   "metadata": {},
   "outputs": [],
   "source": [
    "for scraped_data_path in [\n",
    "    f\"./data/{course.title}.json\"\n",
    "    for course in [\n",
    "        AWS_DEA_01_2024_HANDS_ON\n",
    "        , ULTIMATE_AWS_SAA_C03\n",
    "        , ULTIMATE_AWS_SAP_C02_2024\n",
    "        , AWS_2024_DOP_C02\n",
    "        , ULTIMATE_AWS_NEW_2024_SCS_C02\n",
    "    ]\n",
    "]:\n",
    "    with open(scraped_data_path, \"r\") as f:\n",
    "        all_courses.append(\n",
    "            Course.read_json_dict(\n",
    "                json.load(f)\n",
    "            )\n",
    "        )"
   ]
  },
  {
   "cell_type": "markdown",
   "metadata": {},
   "source": [
    "### 3. Analyze"
   ]
  },
  {
   "cell_type": "code",
   "execution_count": 4,
   "metadata": {},
   "outputs": [
    {
     "name": "stdout",
     "output_type": "stream",
     "text": [
      "AWS Certified Data Engineer Associate 2024 - Hands On!\n",
      "Ultimate AWS Certified Solutions Architect Associate SAA-C03\n",
      "Ultimate AWS Certified Solutions Architect Professional 2024\n",
      "AWS Certified DevOps Engineer Professional 2024 - DOP-C02\n",
      "Ultimate AWS Certified Security Specialty [NEW 2024] SCS-C02\n"
     ]
    }
   ],
   "source": [
    "for c in all_courses:\n",
    "    print(c.title)"
   ]
  },
  {
   "cell_type": "code",
   "execution_count": 5,
   "metadata": {},
   "outputs": [],
   "source": [
    "analyzer = Analyzer(\n",
    "    left_course=all_courses[2],\n",
    "    right_course=all_courses[1]\n",
    ")"
   ]
  },
  {
   "cell_type": "code",
   "execution_count": 6,
   "metadata": {},
   "outputs": [],
   "source": [
    "report =  analyzer.analyze()"
   ]
  },
  {
   "cell_type": "code",
   "execution_count": 7,
   "metadata": {},
   "outputs": [],
   "source": [
    "def percent(u,d) -> float:\n",
    "    return round((u/d)*100)\n",
    "\n",
    "def show_results(report: CompareReport, analyzer: Analyzer): \n",
    "    count_same_materials = len(report.same_materials)\n",
    "    print(\"Compare 2 Udemy courses' materials (videos, exams, labs, articles): \")\n",
    "    print(f\"+ {analyzer.left_course.title} --- {len(report.course_left_unique_materials)} unique materials\") \n",
    "    print(f\"+ {analyzer.right_course.title} --- {len(report.course_right_unique_materials)} unique materials\") \n",
    "    print(f\"\\nBoth courses have {count_same_materials} same materials, which takes up to:\")\n",
    "    print(f\"+ {percent(count_same_materials,len(analyzer.left_course.materials))}% of {analyzer.left_course.title}\")\n",
    "    print(f\"+ {percent(count_same_materials,len(analyzer.right_course.materials))}% of {analyzer.right_course.title}\")"
   ]
  },
  {
   "cell_type": "code",
   "execution_count": 8,
   "metadata": {},
   "outputs": [
    {
     "name": "stdout",
     "output_type": "stream",
     "text": [
      "Compare 2 Udemy courses' materials (videos, exams, labs, articles): \n",
      "+ Ultimate AWS Certified Solutions Architect Professional 2024 --- 185 unique materials\n",
      "+ Ultimate AWS Certified Solutions Architect Associate SAA-C03 --- 390 unique materials\n",
      "\n",
      "Both courses have 33 same materials, which takes up to:\n",
      "+ 15% of Ultimate AWS Certified Solutions Architect Professional 2024\n",
      "+ 8% of Ultimate AWS Certified Solutions Architect Associate SAA-C03\n"
     ]
    }
   ],
   "source": [
    "show_results(report=report, analyzer=analyzer)"
   ]
  },
  {
   "cell_type": "code",
   "execution_count": null,
   "metadata": {},
   "outputs": [],
   "source": [
    "from difflib import SequenceMatcher\n",
    "def similar(a, b):\n",
    "    return SequenceMatcher(None, a, b).ratio()"
   ]
  },
  {
   "cell_type": "code",
   "execution_count": null,
   "metadata": {},
   "outputs": [],
   "source": [
    "similar(\n",
    "    \"Ultimate AWS Certified Solutions Architect Professional 2024\",\n",
    "    \"Ultimate AWS Certified Solutions Architect Associate SAA-C03\"\n",
    ")"
   ]
  },
  {
   "cell_type": "code",
   "execution_count": null,
   "metadata": {},
   "outputs": [],
   "source": []
  }
 ],
 "metadata": {
  "kernelspec": {
   "display_name": "compare-2-courses-lB-TuLlb-py3.10",
   "language": "python",
   "name": "python3"
  },
  "language_info": {
   "codemirror_mode": {
    "name": "ipython",
    "version": 3
   },
   "file_extension": ".py",
   "mimetype": "text/x-python",
   "name": "python",
   "nbconvert_exporter": "python",
   "pygments_lexer": "ipython3",
   "version": "3.10.12"
  }
 },
 "nbformat": 4,
 "nbformat_minor": 2
}
