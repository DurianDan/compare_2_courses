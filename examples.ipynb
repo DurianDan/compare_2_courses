{
 "cells": [
  {
   "cell_type": "markdown",
   "metadata": {},
   "source": [
    "### 1. Sraper Test"
   ]
  },
  {
   "cell_type": "code",
   "execution_count": null,
   "metadata": {},
   "outputs": [],
   "source": [
    "from compare_2_courses.scrape.utils import get_default_chrome_driver\n",
    "from compare_2_courses.scrape.scraper_config import ScraperConfig\n",
    "from compare_2_courses.scrape.udemy_scraper import UdemyScraper\n",
    "from compare_2_courses.constants import (\n",
    "    AWS_DEA_01_2024_HANDS_ON\n",
    "    , ULTIMATE_AWS_SAA_C03\n",
    "    , ULTIMATE_AWS_SAP_C02_2024\n",
    "    , AWS_2024_DOP_C02\n",
    "    , ULTIMATE_AWS_NEW_2024_SCS_C02\n",
    "    )\n",
    "import json"
   ]
  },
  {
   "cell_type": "code",
   "execution_count": null,
   "metadata": {},
   "outputs": [],
   "source": [
    "driver = get_default_chrome_driver()"
   ]
  },
  {
   "cell_type": "code",
   "execution_count": null,
   "metadata": {},
   "outputs": [],
   "source": [
    "for course in [\n",
    "    AWS_DEA_01_2024_HANDS_ON\n",
    "    , ULTIMATE_AWS_SAA_C03\n",
    "    , ULTIMATE_AWS_SAP_C02_2024\n",
    "    , AWS_2024_DOP_C02\n",
    "    , ULTIMATE_AWS_NEW_2024_SCS_C02\n",
    "]:\n",
    "    print(course.title)\n",
    "    scrape_config = ScraperConfig(course_landing_page=course.landing_page)\n",
    "    scraper = UdemyScraper(scraper_config=scrape_config, driver=driver)\n",
    "    course = scraper.scrape()\n",
    "    with open(f\"./data/{course.title}.json\", \"w+\") as f:\n",
    "        json.dump(course.to_json_dict(),f)"
   ]
  },
  {
   "cell_type": "markdown",
   "metadata": {},
   "source": [
    "### 2. Load, from scraped data"
   ]
  },
  {
   "cell_type": "code",
   "execution_count": 15,
   "metadata": {},
   "outputs": [],
   "source": [
    "from compare_2_courses.schemas.course import Course\n",
    "from compare_2_courses.analytics.analyzer import Analyzer, CompareReport\n",
    "from compare_2_courses.schemas.course_content.course_material import similarity\n",
    "from compare_2_courses.constants import (\n",
    "    AWS_DEA_01_2024_HANDS_ON\n",
    "    , ULTIMATE_AWS_SAA_C03\n",
    "    , ULTIMATE_AWS_SAP_C02_2024\n",
    "    , AWS_2024_DOP_C02\n",
    "    , ULTIMATE_AWS_NEW_2024_SCS_C02\n",
    "    , UDEMY_LEARNING_PLATFORM\n",
    "    )\n",
    "import json"
   ]
  },
  {
   "cell_type": "code",
   "execution_count": 2,
   "metadata": {},
   "outputs": [],
   "source": [
    "all_courses = []"
   ]
  },
  {
   "cell_type": "code",
   "execution_count": 3,
   "metadata": {},
   "outputs": [],
   "source": [
    "for scraped_data_path in [\n",
    "    f\"./data/{course.title}.json\"\n",
    "    for course in [\n",
    "        AWS_DEA_01_2024_HANDS_ON\n",
    "        , ULTIMATE_AWS_SAA_C03\n",
    "        , ULTIMATE_AWS_SAP_C02_2024\n",
    "        , AWS_2024_DOP_C02\n",
    "        , ULTIMATE_AWS_NEW_2024_SCS_C02\n",
    "    ]\n",
    "]:\n",
    "    with open(scraped_data_path, \"r\") as f:\n",
    "        all_courses.append(\n",
    "            Course.read_json_dict(\n",
    "                json.load(f)\n",
    "            )\n",
    "        )"
   ]
  },
  {
   "cell_type": "markdown",
   "metadata": {},
   "source": [
    "### 3. Analyze"
   ]
  },
  {
   "cell_type": "code",
   "execution_count": 4,
   "metadata": {},
   "outputs": [],
   "source": [
    "def percent(u,d) -> float:\n",
    "    return round((u/d)*100)\n",
    "\n",
    "def show_results(report: CompareReport, analyzer: Analyzer): \n",
    "    count_same_materials = len(report.same_materials)\n",
    "    print(\"Compare 2 Udemy courses' materials (videos, exams, labs, articles): \")\n",
    "    print(f\"+ {analyzer.left_course.title} --- {len(report.course_left_unique_materials)} unique materials\") \n",
    "    print(f\"+ {analyzer.right_course.title} --- {len(report.course_right_unique_materials)} unique materials\") \n",
    "    print(f\"\\nBoth courses have {count_same_materials} same materials, which takes up to:\")\n",
    "    print(f\"+ {percent(count_same_materials,len(analyzer.left_course.materials))}% of {analyzer.left_course.title}\")\n",
    "    print(f\"+ {percent(count_same_materials,len(analyzer.right_course.materials))}% of {analyzer.right_course.title}\")"
   ]
  },
  {
   "cell_type": "code",
   "execution_count": 5,
   "metadata": {},
   "outputs": [],
   "source": [
    "from itertools import combinations"
   ]
  },
  {
   "cell_type": "code",
   "execution_count": 7,
   "metadata": {},
   "outputs": [
    {
     "name": "stdout",
     "output_type": "stream",
     "text": [
      "_________________\n",
      "AWS Certified Data Engineer Associate 2024 - Hands On!\n",
      "Ultimate AWS Certified Solutions Architect Associate SAA-C03\n",
      "Compare 2 Udemy courses' materials (videos, exams, labs, articles): \n",
      "+ AWS Certified Data Engineer Associate 2024 - Hands On! --- 171 unique materials\n",
      "+ Ultimate AWS Certified Solutions Architect Associate SAA-C03 --- 293 unique materials\n",
      "\n",
      "Both courses have 127 same materials, which takes up to:\n",
      "+ 43% of AWS Certified Data Engineer Associate 2024 - Hands On!\n",
      "+ 30% of Ultimate AWS Certified Solutions Architect Associate SAA-C03\n",
      "_________________\n",
      "AWS Certified Data Engineer Associate 2024 - Hands On!\n",
      "Ultimate AWS Certified Solutions Architect Professional 2024\n",
      "Compare 2 Udemy courses' materials (videos, exams, labs, articles): \n",
      "+ AWS Certified Data Engineer Associate 2024 - Hands On! --- 243 unique materials\n",
      "+ Ultimate AWS Certified Solutions Architect Professional 2024 --- 173 unique materials\n",
      "\n",
      "Both courses have 55 same materials, which takes up to:\n",
      "+ 18% of AWS Certified Data Engineer Associate 2024 - Hands On!\n",
      "+ 25% of Ultimate AWS Certified Solutions Architect Professional 2024\n",
      "_________________\n",
      "AWS Certified Data Engineer Associate 2024 - Hands On!\n",
      "AWS Certified DevOps Engineer Professional 2024 - DOP-C02\n",
      "Compare 2 Udemy courses' materials (videos, exams, labs, articles): \n",
      "+ AWS Certified Data Engineer Associate 2024 - Hands On! --- 239 unique materials\n",
      "+ AWS Certified DevOps Engineer Professional 2024 - DOP-C02 --- 207 unique materials\n",
      "\n",
      "Both courses have 59 same materials, which takes up to:\n",
      "+ 20% of AWS Certified Data Engineer Associate 2024 - Hands On!\n",
      "+ 23% of AWS Certified DevOps Engineer Professional 2024 - DOP-C02\n",
      "_________________\n",
      "AWS Certified Data Engineer Associate 2024 - Hands On!\n",
      "Ultimate AWS Certified Security Specialty [NEW 2024] SCS-C02\n",
      "Compare 2 Udemy courses' materials (videos, exams, labs, articles): \n",
      "+ AWS Certified Data Engineer Associate 2024 - Hands On! --- 242 unique materials\n",
      "+ Ultimate AWS Certified Security Specialty [NEW 2024] SCS-C02 --- 215 unique materials\n",
      "\n",
      "Both courses have 56 same materials, which takes up to:\n",
      "+ 19% of AWS Certified Data Engineer Associate 2024 - Hands On!\n",
      "+ 21% of Ultimate AWS Certified Security Specialty [NEW 2024] SCS-C02\n",
      "_________________\n",
      "Ultimate AWS Certified Solutions Architect Associate SAA-C03\n",
      "Ultimate AWS Certified Solutions Architect Professional 2024\n",
      "Compare 2 Udemy courses' materials (videos, exams, labs, articles): \n",
      "+ Ultimate AWS Certified Solutions Architect Associate SAA-C03 --- 317 unique materials\n",
      "+ Ultimate AWS Certified Solutions Architect Professional 2024 --- 129 unique materials\n",
      "\n",
      "Both courses have 106 same materials, which takes up to:\n",
      "+ 25% of Ultimate AWS Certified Solutions Architect Associate SAA-C03\n",
      "+ 49% of Ultimate AWS Certified Solutions Architect Professional 2024\n",
      "_________________\n",
      "Ultimate AWS Certified Solutions Architect Associate SAA-C03\n",
      "AWS Certified DevOps Engineer Professional 2024 - DOP-C02\n",
      "Compare 2 Udemy courses' materials (videos, exams, labs, articles): \n",
      "+ Ultimate AWS Certified Solutions Architect Associate SAA-C03 --- 334 unique materials\n",
      "+ AWS Certified DevOps Engineer Professional 2024 - DOP-C02 --- 158 unique materials\n",
      "\n",
      "Both courses have 89 same materials, which takes up to:\n",
      "+ 21% of Ultimate AWS Certified Solutions Architect Associate SAA-C03\n",
      "+ 35% of AWS Certified DevOps Engineer Professional 2024 - DOP-C02\n",
      "_________________\n",
      "Ultimate AWS Certified Solutions Architect Associate SAA-C03\n",
      "Ultimate AWS Certified Security Specialty [NEW 2024] SCS-C02\n",
      "Compare 2 Udemy courses' materials (videos, exams, labs, articles): \n",
      "+ Ultimate AWS Certified Solutions Architect Associate SAA-C03 --- 318 unique materials\n",
      "+ Ultimate AWS Certified Security Specialty [NEW 2024] SCS-C02 --- 166 unique materials\n",
      "\n",
      "Both courses have 105 same materials, which takes up to:\n",
      "+ 25% of Ultimate AWS Certified Solutions Architect Associate SAA-C03\n",
      "+ 40% of Ultimate AWS Certified Security Specialty [NEW 2024] SCS-C02\n",
      "_________________\n",
      "Ultimate AWS Certified Solutions Architect Professional 2024\n",
      "AWS Certified DevOps Engineer Professional 2024 - DOP-C02\n",
      "Compare 2 Udemy courses' materials (videos, exams, labs, articles): \n",
      "+ Ultimate AWS Certified Solutions Architect Professional 2024 --- 186 unique materials\n",
      "+ AWS Certified DevOps Engineer Professional 2024 - DOP-C02 --- 226 unique materials\n",
      "\n",
      "Both courses have 32 same materials, which takes up to:\n",
      "+ 15% of Ultimate AWS Certified Solutions Architect Professional 2024\n",
      "+ 12% of AWS Certified DevOps Engineer Professional 2024 - DOP-C02\n",
      "_________________\n",
      "Ultimate AWS Certified Solutions Architect Professional 2024\n",
      "Ultimate AWS Certified Security Specialty [NEW 2024] SCS-C02\n",
      "Compare 2 Udemy courses' materials (videos, exams, labs, articles): \n",
      "+ Ultimate AWS Certified Solutions Architect Professional 2024 --- 180 unique materials\n",
      "+ Ultimate AWS Certified Security Specialty [NEW 2024] SCS-C02 --- 223 unique materials\n",
      "\n",
      "Both courses have 38 same materials, which takes up to:\n",
      "+ 17% of Ultimate AWS Certified Solutions Architect Professional 2024\n",
      "+ 14% of Ultimate AWS Certified Security Specialty [NEW 2024] SCS-C02\n",
      "_________________\n",
      "AWS Certified DevOps Engineer Professional 2024 - DOP-C02\n",
      "Ultimate AWS Certified Security Specialty [NEW 2024] SCS-C02\n",
      "Compare 2 Udemy courses' materials (videos, exams, labs, articles): \n",
      "+ AWS Certified DevOps Engineer Professional 2024 - DOP-C02 --- 146 unique materials\n",
      "+ Ultimate AWS Certified Security Specialty [NEW 2024] SCS-C02 --- 168 unique materials\n",
      "\n",
      "Both courses have 110 same materials, which takes up to:\n",
      "+ 43% of AWS Certified DevOps Engineer Professional 2024 - DOP-C02\n",
      "+ 42% of Ultimate AWS Certified Security Specialty [NEW 2024] SCS-C02\n"
     ]
    }
   ],
   "source": [
    "for course_left, course_right in combinations(all_courses,2):\n",
    "    print(\"_________________\")\n",
    "    print(course_left.title)\n",
    "    print(course_right.title)\n",
    "    analyzer = Analyzer(left_course=course_left, right_course=course_right)\n",
    "    report = analyzer.analyze()\n",
    "    show_results(report=report, analyzer=analyzer)"
   ]
  },
  {
   "cell_type": "code",
   "execution_count": null,
   "metadata": {},
   "outputs": [],
   "source": []
  }
 ],
 "metadata": {
  "kernelspec": {
   "display_name": "compare-2-courses-lB-TuLlb-py3.10",
   "language": "python",
   "name": "python3"
  },
  "language_info": {
   "codemirror_mode": {
    "name": "ipython",
    "version": 3
   },
   "file_extension": ".py",
   "mimetype": "text/x-python",
   "name": "python",
   "nbconvert_exporter": "python",
   "pygments_lexer": "ipython3",
   "version": "3.10.12"
  }
 },
 "nbformat": 4,
 "nbformat_minor": 2
}
