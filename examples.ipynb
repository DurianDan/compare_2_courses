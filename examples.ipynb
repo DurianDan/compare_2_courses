{
 "cells": [
  {
   "cell_type": "code",
   "execution_count": 1,
   "metadata": {},
   "outputs": [],
   "source": [
    "from compare_2_courses.scrape.utils import get_default_chrome_driver\n",
    "from compare_2_courses.scrape.scraper_config import ScraperConfig\n",
    "from compare_2_courses.scrape.udemy_scraper import UdemyScraper, Course\n",
    "from compare_2_courses.constants import (\n",
    "    AWS_DEA_01_2024_HANDS_ON\n",
    "    , ULTIMATE_AWS_SAA_C03\n",
    "    , ULTIMATE_AWS_SAP_C02_2024\n",
    "    , AWS_2024_DOP_C02\n",
    "    , ULTIMATE_AWS_NEW_2024_SCS_C02\n",
    "    )\n",
    "import json"
   ]
  },
  {
   "cell_type": "code",
   "execution_count": 2,
   "metadata": {},
   "outputs": [],
   "source": [
    "driver = get_default_chrome_driver()"
   ]
  },
  {
   "cell_type": "code",
   "execution_count": 5,
   "metadata": {},
   "outputs": [
    {
     "name": "stdout",
     "output_type": "stream",
     "text": [
      "AWS Certified Data Engineer Associate 2024 - Hands On!\n",
      "Ultimate AWS Certified Solutions Architect Associate SAA-C03\n",
      "Ultimate AWS Certified Solutions Architect Professional 2024\n",
      "AWS Certified DevOps Engineer Professional 2024 - DOP-C02\n",
      "Ultimate AWS Certified Security Specialty [NEW 2024] SCS-C02\n"
     ]
    }
   ],
   "source": [
    "for course in [\n",
    "    AWS_DEA_01_2024_HANDS_ON\n",
    "    , ULTIMATE_AWS_SAA_C03\n",
    "    , ULTIMATE_AWS_SAP_C02_2024\n",
    "    , AWS_2024_DOP_C02\n",
    "    , ULTIMATE_AWS_NEW_2024_SCS_C02\n",
    "]:\n",
    "    print(course.title)\n",
    "    scrape_config = ScraperConfig(course_landing_page=course.landing_page)\n",
    "    scraper = UdemyScraper(scraper_config=scrape_config, driver=driver)\n",
    "    course = scraper.scrape()\n",
    "    with open(f\"./data/{course.title}.json\", \"w+\") as f:\n",
    "        json.dump(course.to_json_dict(),f)"
   ]
  },
  {
   "cell_type": "code",
   "execution_count": null,
   "metadata": {},
   "outputs": [],
   "source": []
  }
 ],
 "metadata": {
  "kernelspec": {
   "display_name": "compare-2-courses-lB-TuLlb-py3.10",
   "language": "python",
   "name": "python3"
  },
  "language_info": {
   "codemirror_mode": {
    "name": "ipython",
    "version": 3
   },
   "file_extension": ".py",
   "mimetype": "text/x-python",
   "name": "python",
   "nbconvert_exporter": "python",
   "pygments_lexer": "ipython3",
   "version": "3.10.12"
  }
 },
 "nbformat": 4,
 "nbformat_minor": 2
}
