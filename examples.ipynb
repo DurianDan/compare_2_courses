{
 "cells": [
  {
   "cell_type": "markdown",
   "metadata": {},
   "source": [
    "### 1. Sraper Test"
   ]
  },
  {
   "cell_type": "code",
   "execution_count": null,
   "metadata": {},
   "outputs": [],
   "source": [
    "from compare_2_courses.scrape.utils import get_default_chrome_driver\n",
    "from compare_2_courses.scrape.scraper_config import ScraperConfig\n",
    "from compare_2_courses.scrape.udemy_scraper import UdemyScraper\n",
    "from compare_2_courses.constants import (\n",
    "    AWS_DEA_01_2024_HANDS_ON\n",
    "    , ULTIMATE_AWS_SAA_C03\n",
    "    , ULTIMATE_AWS_SAP_C02_2024\n",
    "    , AWS_2024_DOP_C02\n",
    "    , ULTIMATE_AWS_NEW_2024_SCS_C02\n",
    "    )\n",
    "import json"
   ]
  },
  {
   "cell_type": "code",
   "execution_count": null,
   "metadata": {},
   "outputs": [],
   "source": [
    "driver = get_default_chrome_driver()"
   ]
  },
  {
   "cell_type": "code",
   "execution_count": null,
   "metadata": {},
   "outputs": [],
   "source": [
    "for course in [\n",
    "    AWS_DEA_01_2024_HANDS_ON\n",
    "    , ULTIMATE_AWS_SAA_C03\n",
    "    , ULTIMATE_AWS_SAP_C02_2024\n",
    "    , AWS_2024_DOP_C02\n",
    "    , ULTIMATE_AWS_NEW_2024_SCS_C02\n",
    "]:\n",
    "    print(course.title)\n",
    "    scrape_config = ScraperConfig(course_landing_page=course.landing_page)\n",
    "    scraper = UdemyScraper(scraper_config=scrape_config, driver=driver)\n",
    "    course = scraper.scrape()\n",
    "    with open(f\"./data/{course.title}.json\", \"w+\") as f:\n",
    "        json.dump(course.to_json_dict(),f)"
   ]
  },
  {
   "cell_type": "markdown",
   "metadata": {},
   "source": [
    "### 2. Load, from scraped data"
   ]
  },
  {
   "cell_type": "code",
   "execution_count": 1,
   "metadata": {},
   "outputs": [],
   "source": [
    "from compare_2_courses.schemas.course import Course\n",
    "from compare_2_courses.analytics.analyzer import Analyzer, CompareReport\n",
    "from compare_2_courses.schemas.course_content import CourseVideo\n",
    "from compare_2_courses.constants import (\n",
    "    AWS_DEA_01_2024_HANDS_ON\n",
    "    , ULTIMATE_AWS_SAA_C03\n",
    "    , ULTIMATE_AWS_SAP_C02_2024\n",
    "    , AWS_2024_DOP_C02\n",
    "    , ULTIMATE_AWS_NEW_2024_SCS_C02\n",
    "    , UDEMY_LEARNING_PLATFORM\n",
    "    )\n",
    "import json"
   ]
  },
  {
   "cell_type": "code",
   "execution_count": 2,
   "metadata": {},
   "outputs": [],
   "source": [
    "all_courses = []"
   ]
  },
  {
   "cell_type": "code",
   "execution_count": 3,
   "metadata": {},
   "outputs": [],
   "source": [
    "for scraped_data_path in [\n",
    "    f\"./data/{course.title}.json\"\n",
    "    for course in [\n",
    "        AWS_DEA_01_2024_HANDS_ON\n",
    "        , ULTIMATE_AWS_SAA_C03\n",
    "        , ULTIMATE_AWS_SAP_C02_2024\n",
    "        , AWS_2024_DOP_C02\n",
    "        , ULTIMATE_AWS_NEW_2024_SCS_C02\n",
    "    ]\n",
    "]:\n",
    "    with open(scraped_data_path, \"r\") as f:\n",
    "        all_courses.append(\n",
    "            Course.read_json_dict(\n",
    "                json.load(f)\n",
    "            )\n",
    "        )"
   ]
  },
  {
   "cell_type": "markdown",
   "metadata": {},
   "source": [
    "### 3. Analyze"
   ]
  },
  {
   "cell_type": "code",
   "execution_count": 7,
   "metadata": {},
   "outputs": [],
   "source": [
    "def percent(u,d) -> float:\n",
    "    return round((u/d)*100)\n",
    "\n",
    "def show_results(report: CompareReport, analyzer: Analyzer): \n",
    "    count_same_materials = len(report.same_materials)\n",
    "    print(\"Compare 2 Udemy courses' materials (videos, exams, labs, articles): \")\n",
    "    print(f\"+ {analyzer.left_course.title} --- {len(report.course_left_unique_materials)} unique materials\") \n",
    "    print(f\"+ {analyzer.right_course.title} --- {len(report.course_right_unique_materials)} unique materials\") \n",
    "    print(f\"\\nBoth courses have {count_same_materials} same materials, which takes up to:\")\n",
    "    print(f\"+ {percent(count_same_materials,len(analyzer.left_course.materials))}% of {analyzer.left_course.title}\")\n",
    "    print(f\"+ {percent(count_same_materials,len(analyzer.right_course.materials))}% of {analyzer.right_course.title}\")"
   ]
  },
  {
   "cell_type": "code",
   "execution_count": 9,
   "metadata": {},
   "outputs": [
    {
     "name": "stdout",
     "output_type": "stream",
     "text": [
      "_________________\n",
      "AWS Certified Data Engineer Associate 2024 - Hands On!\n",
      "Ultimate AWS Certified Solutions Architect Associate SAA-C03\n",
      "Compare 2 Udemy courses' materials (videos, exams, labs, articles): \n",
      "+ AWS Certified Data Engineer Associate 2024 - Hands On! --- 240 unique materials\n",
      "+ Ultimate AWS Certified Solutions Architect Associate SAA-C03 --- 366 unique materials\n",
      "\n",
      "Both courses have 58 same materials, which takes up to:\n",
      "+ 19% of AWS Certified Data Engineer Associate 2024 - Hands On!\n",
      "+ 14% of Ultimate AWS Certified Solutions Architect Associate SAA-C03\n",
      "_________________\n",
      "AWS Certified Data Engineer Associate 2024 - Hands On!\n",
      "Ultimate AWS Certified Solutions Architect Professional 2024\n",
      "Compare 2 Udemy courses' materials (videos, exams, labs, articles): \n",
      "+ AWS Certified Data Engineer Associate 2024 - Hands On! --- 290 unique materials\n",
      "+ Ultimate AWS Certified Solutions Architect Professional 2024 --- 210 unique materials\n",
      "\n",
      "Both courses have 8 same materials, which takes up to:\n",
      "+ 3% of AWS Certified Data Engineer Associate 2024 - Hands On!\n",
      "+ 4% of Ultimate AWS Certified Solutions Architect Professional 2024\n",
      "_________________\n",
      "AWS Certified Data Engineer Associate 2024 - Hands On!\n",
      "AWS Certified DevOps Engineer Professional 2024 - DOP-C02\n",
      "Compare 2 Udemy courses' materials (videos, exams, labs, articles): \n",
      "+ AWS Certified Data Engineer Associate 2024 - Hands On! --- 286 unique materials\n",
      "+ AWS Certified DevOps Engineer Professional 2024 - DOP-C02 --- 244 unique materials\n",
      "\n",
      "Both courses have 12 same materials, which takes up to:\n",
      "+ 4% of AWS Certified Data Engineer Associate 2024 - Hands On!\n",
      "+ 5% of AWS Certified DevOps Engineer Professional 2024 - DOP-C02\n",
      "_________________\n",
      "AWS Certified Data Engineer Associate 2024 - Hands On!\n",
      "Ultimate AWS Certified Security Specialty [NEW 2024] SCS-C02\n",
      "Compare 2 Udemy courses' materials (videos, exams, labs, articles): \n",
      "+ AWS Certified Data Engineer Associate 2024 - Hands On! --- 291 unique materials\n",
      "+ Ultimate AWS Certified Security Specialty [NEW 2024] SCS-C02 --- 258 unique materials\n",
      "\n",
      "Both courses have 7 same materials, which takes up to:\n",
      "+ 2% of AWS Certified Data Engineer Associate 2024 - Hands On!\n",
      "+ 3% of Ultimate AWS Certified Security Specialty [NEW 2024] SCS-C02\n",
      "_________________\n",
      "Ultimate AWS Certified Solutions Architect Associate SAA-C03\n",
      "Ultimate AWS Certified Solutions Architect Professional 2024\n",
      "Compare 2 Udemy courses' materials (videos, exams, labs, articles): \n",
      "+ Ultimate AWS Certified Solutions Architect Associate SAA-C03 --- 390 unique materials\n",
      "+ Ultimate AWS Certified Solutions Architect Professional 2024 --- 185 unique materials\n",
      "\n",
      "Both courses have 33 same materials, which takes up to:\n",
      "+ 8% of Ultimate AWS Certified Solutions Architect Associate SAA-C03\n",
      "+ 15% of Ultimate AWS Certified Solutions Architect Professional 2024\n",
      "_________________\n",
      "Ultimate AWS Certified Solutions Architect Associate SAA-C03\n",
      "AWS Certified DevOps Engineer Professional 2024 - DOP-C02\n",
      "Compare 2 Udemy courses' materials (videos, exams, labs, articles): \n",
      "+ Ultimate AWS Certified Solutions Architect Associate SAA-C03 --- 397 unique materials\n",
      "+ AWS Certified DevOps Engineer Professional 2024 - DOP-C02 --- 230 unique materials\n",
      "\n",
      "Both courses have 26 same materials, which takes up to:\n",
      "+ 6% of Ultimate AWS Certified Solutions Architect Associate SAA-C03\n",
      "+ 10% of AWS Certified DevOps Engineer Professional 2024 - DOP-C02\n",
      "_________________\n",
      "Ultimate AWS Certified Solutions Architect Associate SAA-C03\n",
      "Ultimate AWS Certified Security Specialty [NEW 2024] SCS-C02\n",
      "Compare 2 Udemy courses' materials (videos, exams, labs, articles): \n",
      "+ Ultimate AWS Certified Solutions Architect Associate SAA-C03 --- 398 unique materials\n",
      "+ Ultimate AWS Certified Security Specialty [NEW 2024] SCS-C02 --- 240 unique materials\n",
      "\n",
      "Both courses have 25 same materials, which takes up to:\n",
      "+ 6% of Ultimate AWS Certified Solutions Architect Associate SAA-C03\n",
      "+ 9% of Ultimate AWS Certified Security Specialty [NEW 2024] SCS-C02\n",
      "_________________\n",
      "Ultimate AWS Certified Solutions Architect Professional 2024\n",
      "AWS Certified DevOps Engineer Professional 2024 - DOP-C02\n",
      "Compare 2 Udemy courses' materials (videos, exams, labs, articles): \n",
      "+ Ultimate AWS Certified Solutions Architect Professional 2024 --- 209 unique materials\n",
      "+ AWS Certified DevOps Engineer Professional 2024 - DOP-C02 --- 247 unique materials\n",
      "\n",
      "Both courses have 9 same materials, which takes up to:\n",
      "+ 4% of Ultimate AWS Certified Solutions Architect Professional 2024\n",
      "+ 4% of AWS Certified DevOps Engineer Professional 2024 - DOP-C02\n",
      "_________________\n",
      "Ultimate AWS Certified Solutions Architect Professional 2024\n",
      "Ultimate AWS Certified Security Specialty [NEW 2024] SCS-C02\n",
      "Compare 2 Udemy courses' materials (videos, exams, labs, articles): \n",
      "+ Ultimate AWS Certified Solutions Architect Professional 2024 --- 201 unique materials\n",
      "+ Ultimate AWS Certified Security Specialty [NEW 2024] SCS-C02 --- 248 unique materials\n",
      "\n",
      "Both courses have 17 same materials, which takes up to:\n",
      "+ 8% of Ultimate AWS Certified Solutions Architect Professional 2024\n",
      "+ 6% of Ultimate AWS Certified Security Specialty [NEW 2024] SCS-C02\n",
      "_________________\n",
      "AWS Certified DevOps Engineer Professional 2024 - DOP-C02\n",
      "Ultimate AWS Certified Security Specialty [NEW 2024] SCS-C02\n",
      "Compare 2 Udemy courses' materials (videos, exams, labs, articles): \n",
      "+ AWS Certified DevOps Engineer Professional 2024 - DOP-C02 --- 216 unique materials\n",
      "+ Ultimate AWS Certified Security Specialty [NEW 2024] SCS-C02 --- 225 unique materials\n",
      "\n",
      "Both courses have 40 same materials, which takes up to:\n",
      "+ 16% of AWS Certified DevOps Engineer Professional 2024 - DOP-C02\n",
      "+ 15% of Ultimate AWS Certified Security Specialty [NEW 2024] SCS-C02\n"
     ]
    }
   ],
   "source": [
    "for idx,course_left in enumerate(all_courses[:-1]):\n",
    "    for course_right in all_courses[idx+1:]:\n",
    "        print(\"_________________\")\n",
    "        print(course_left.title)\n",
    "        print(course_right.title)\n",
    "        analyzer = Analyzer(left_course=course_left, right_course=course_right)\n",
    "        report = analyzer.analyze()\n",
    "        show_results(report=report, analyzer=analyzer)"
   ]
  }
 ],
 "metadata": {
  "kernelspec": {
   "display_name": "compare-2-courses-lB-TuLlb-py3.10",
   "language": "python",
   "name": "python3"
  },
  "language_info": {
   "codemirror_mode": {
    "name": "ipython",
    "version": 3
   },
   "file_extension": ".py",
   "mimetype": "text/x-python",
   "name": "python",
   "nbconvert_exporter": "python",
   "pygments_lexer": "ipython3",
   "version": "3.10.12"
  }
 },
 "nbformat": 4,
 "nbformat_minor": 2
}
