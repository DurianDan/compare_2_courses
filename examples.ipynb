{
 "cells": [
  {
   "cell_type": "code",
   "execution_count": null,
   "metadata": {},
   "outputs": [],
   "source": [
    "from compare_2_courses.scrape.utils import get_default_chrome_driver\n",
    "from compare_2_courses.scrape.scraper_config import ScraperConfig\n",
    "from compare_2_courses.scrape.udemy_scraper import UdemyScraper\n",
    "from compare_2_courses.constants import (\n",
    "    AWS_DEA_01_2024_HANDS_ON\n",
    "    , ULTIMATE_AWS_SAA_C03\n",
    "    , ULTIMATE_AWS_SAP_C02_2024\n",
    "    , AWS_2024_DOP_C02\n",
    "    , ULTIMATE_AWS_NEW_2024_SCS_C02\n",
    "    )\n",
    "import json"
   ]
  },
  {
   "cell_type": "code",
   "execution_count": null,
   "metadata": {},
   "outputs": [],
   "source": [
    "driver = get_default_chrome_driver()"
   ]
  },
  {
   "cell_type": "code",
   "execution_count": null,
   "metadata": {},
   "outputs": [],
   "source": [
    "for course in [\n",
    "    AWS_DEA_01_2024_HANDS_ON\n",
    "    , ULTIMATE_AWS_SAA_C03\n",
    "    , ULTIMATE_AWS_SAP_C02_2024\n",
    "    , AWS_2024_DOP_C02\n",
    "    , ULTIMATE_AWS_NEW_2024_SCS_C02\n",
    "]:\n",
    "    print(course.title)\n",
    "    scrape_config = ScraperConfig(course_landing_page=course.landing_page)\n",
    "    scraper = UdemyScraper(scraper_config=scrape_config, driver=driver)\n",
    "    course = scraper.scrape()\n",
    "    with open(f\"./data/{course.title}.json\", \"w+\") as f:\n",
    "        json.dump(course.to_json(),f)"
   ]
  }
 ],
 "metadata": {
  "kernelspec": {
   "display_name": "compare-2-courses-lB-TuLlb-py3.10",
   "language": "python",
   "name": "python3"
  },
  "language_info": {
   "codemirror_mode": {
    "name": "ipython",
    "version": 3
   },
   "file_extension": ".py",
   "mimetype": "text/x-python",
   "name": "python",
   "nbconvert_exporter": "python",
   "pygments_lexer": "ipython3",
   "version": "3.10.12"
  }
 },
 "nbformat": 4,
 "nbformat_minor": 2
}
